{
 "metadata": {
  "language_info": {
   "codemirror_mode": {
    "name": "ipython",
    "version": 3
   },
   "file_extension": ".py",
   "mimetype": "text/x-python",
   "name": "python",
   "nbconvert_exporter": "python",
   "pygments_lexer": "ipython3",
   "version": "3.8.8"
  },
  "orig_nbformat": 4,
  "kernelspec": {
   "name": "python3",
   "display_name": "Python 3.8.8 64-bit ('base': conda)"
  },
  "interpreter": {
   "hash": "fd33a43531293c3ca39f530baf6a99cdd275e6bb23724898754c145d228a1bcb"
  }
 },
 "nbformat": 4,
 "nbformat_minor": 2,
 "cells": [
  {
   "cell_type": "code",
   "execution_count": 22,
   "source": [
    "import tweepy"
   ],
   "outputs": [],
   "metadata": {}
  },
  {
   "cell_type": "code",
   "execution_count": 23,
   "source": [
    "TWITTER_API_KEY = \"stxLC2koT9nf7ZBW6NUxNsx1E\"\r\n",
    "TWITTER_API_KEY_SECRET = \"rHlGp4SkrVHaYYTHdpsBTXeWcPsm6kWRS69c7CXB7eVQ3wQnKp\""
   ],
   "outputs": [],
   "metadata": {}
  },
  {
   "cell_type": "code",
   "execution_count": 24,
   "source": [
    "auth = tweepy.OAuthHandler(TWITTER_API_KEY, TWITTER_API_KEY_SECRET)"
   ],
   "outputs": [],
   "metadata": {}
  },
  {
   "cell_type": "code",
   "execution_count": 25,
   "source": [
    "auth"
   ],
   "outputs": [
    {
     "output_type": "execute_result",
     "data": {
      "text/plain": [
       "<tweepy.auth.OAuthHandler at 0x20c447c9b20>"
      ]
     },
     "metadata": {},
     "execution_count": 25
    }
   ],
   "metadata": {}
  },
  {
   "cell_type": "code",
   "execution_count": 26,
   "source": [
    "twitter = tweepy.API(auth)"
   ],
   "outputs": [],
   "metadata": {}
  },
  {
   "cell_type": "code",
   "execution_count": 27,
   "source": [
    "twitter"
   ],
   "outputs": [
    {
     "output_type": "execute_result",
     "data": {
      "text/plain": [
       "<tweepy.api.API at 0x20c436553d0>"
      ]
     },
     "metadata": {},
     "execution_count": 27
    }
   ],
   "metadata": {}
  },
  {
   "cell_type": "code",
   "execution_count": 28,
   "source": [
    "nasa = twitter.get_user(\"nasa\")"
   ],
   "outputs": [],
   "metadata": {}
  },
  {
   "cell_type": "code",
   "execution_count": 29,
   "source": [
    "nasa"
   ],
   "outputs": [
    {
     "output_type": "execute_result",
     "data": {
      "text/plain": [
       "User(_api=<tweepy.api.API object at 0x0000020C436553D0>, _json={'id': 11348282, 'id_str': '11348282', 'name': 'NASA', 'screen_name': 'NASA', 'location': 'Pale Blue Dot', 'profile_location': None, 'description': \"There's space for everybody. ✨\", 'url': 'https://t.co/HMJJbimQpV', 'entities': {'url': {'urls': [{'url': 'https://t.co/HMJJbimQpV', 'expanded_url': 'http://www.nasa.gov/', 'display_url': 'nasa.gov', 'indices': [0, 23]}]}, 'description': {'urls': []}}, 'protected': False, 'followers_count': 48467418, 'friends_count': 176, 'listed_count': 96491, 'created_at': 'Wed Dec 19 20:20:32 +0000 2007', 'favourites_count': 13163, 'utc_offset': None, 'time_zone': None, 'geo_enabled': False, 'verified': True, 'statuses_count': 66518, 'lang': None, 'status': {'created_at': 'Wed Sep 15 00:01:03 +0000 2021', 'id': 1437929417473511432, 'id_str': '1437929417473511432', 'text': \"LIVE: Our head of human spaceflight @KathyLueders speaks at @AirAndSpace.\\n\\n🤩 Tune in for her insights on humanity's… https://t.co/Zx7i4HAMyN\", 'truncated': True, 'entities': {'hashtags': [], 'symbols': [], 'user_mentions': [{'screen_name': 'KathyLueders', 'name': 'Kathy Lueders', 'id': 1275082205233111040, 'id_str': '1275082205233111040', 'indices': [36, 49]}, {'screen_name': 'airandspace', 'name': 'National Air and Space Museum', 'id': 14848513, 'id_str': '14848513', 'indices': [60, 72]}], 'urls': [{'url': 'https://t.co/Zx7i4HAMyN', 'expanded_url': 'https://twitter.com/i/web/status/1437929417473511432', 'display_url': 'twitter.com/i/web/status/1…', 'indices': [117, 140]}]}, 'source': '<a href=\"https://studio.twitter.com\" rel=\"nofollow\">Twitter Media Studio</a>', 'in_reply_to_status_id': None, 'in_reply_to_status_id_str': None, 'in_reply_to_user_id': None, 'in_reply_to_user_id_str': None, 'in_reply_to_screen_name': None, 'geo': None, 'coordinates': None, 'place': None, 'contributors': None, 'is_quote_status': False, 'retweet_count': 22, 'favorite_count': 109, 'favorited': False, 'retweeted': False, 'possibly_sensitive': False, 'lang': 'en'}, 'contributors_enabled': False, 'is_translator': False, 'is_translation_enabled': False, 'profile_background_color': '000000', 'profile_background_image_url': 'http://abs.twimg.com/images/themes/theme1/bg.png', 'profile_background_image_url_https': 'https://abs.twimg.com/images/themes/theme1/bg.png', 'profile_background_tile': False, 'profile_image_url': 'http://pbs.twimg.com/profile_images/1321163587679784960/0ZxKlEKB_normal.jpg', 'profile_image_url_https': 'https://pbs.twimg.com/profile_images/1321163587679784960/0ZxKlEKB_normal.jpg', 'profile_banner_url': 'https://pbs.twimg.com/profile_banners/11348282/1631654628', 'profile_link_color': '205BA7', 'profile_sidebar_border_color': '000000', 'profile_sidebar_fill_color': 'F3F2F2', 'profile_text_color': '000000', 'profile_use_background_image': True, 'has_extended_profile': True, 'default_profile': False, 'default_profile_image': False, 'following': None, 'follow_request_sent': None, 'notifications': None, 'translator_type': 'regular', 'withheld_in_countries': []}, id=11348282, id_str='11348282', name='NASA', screen_name='NASA', location='Pale Blue Dot', profile_location=None, description=\"There's space for everybody. ✨\", url='https://t.co/HMJJbimQpV', entities={'url': {'urls': [{'url': 'https://t.co/HMJJbimQpV', 'expanded_url': 'http://www.nasa.gov/', 'display_url': 'nasa.gov', 'indices': [0, 23]}]}, 'description': {'urls': []}}, protected=False, followers_count=48467418, friends_count=176, listed_count=96491, created_at=datetime.datetime(2007, 12, 19, 20, 20, 32), favourites_count=13163, utc_offset=None, time_zone=None, geo_enabled=False, verified=True, statuses_count=66518, lang=None, status=Status(_api=<tweepy.api.API object at 0x0000020C436553D0>, _json={'created_at': 'Wed Sep 15 00:01:03 +0000 2021', 'id': 1437929417473511432, 'id_str': '1437929417473511432', 'text': \"LIVE: Our head of human spaceflight @KathyLueders speaks at @AirAndSpace.\\n\\n🤩 Tune in for her insights on humanity's… https://t.co/Zx7i4HAMyN\", 'truncated': True, 'entities': {'hashtags': [], 'symbols': [], 'user_mentions': [{'screen_name': 'KathyLueders', 'name': 'Kathy Lueders', 'id': 1275082205233111040, 'id_str': '1275082205233111040', 'indices': [36, 49]}, {'screen_name': 'airandspace', 'name': 'National Air and Space Museum', 'id': 14848513, 'id_str': '14848513', 'indices': [60, 72]}], 'urls': [{'url': 'https://t.co/Zx7i4HAMyN', 'expanded_url': 'https://twitter.com/i/web/status/1437929417473511432', 'display_url': 'twitter.com/i/web/status/1…', 'indices': [117, 140]}]}, 'source': '<a href=\"https://studio.twitter.com\" rel=\"nofollow\">Twitter Media Studio</a>', 'in_reply_to_status_id': None, 'in_reply_to_status_id_str': None, 'in_reply_to_user_id': None, 'in_reply_to_user_id_str': None, 'in_reply_to_screen_name': None, 'geo': None, 'coordinates': None, 'place': None, 'contributors': None, 'is_quote_status': False, 'retweet_count': 22, 'favorite_count': 109, 'favorited': False, 'retweeted': False, 'possibly_sensitive': False, 'lang': 'en'}, created_at=datetime.datetime(2021, 9, 15, 0, 1, 3), id=1437929417473511432, id_str='1437929417473511432', text=\"LIVE: Our head of human spaceflight @KathyLueders speaks at @AirAndSpace.\\n\\n🤩 Tune in for her insights on humanity's… https://t.co/Zx7i4HAMyN\", truncated=True, entities={'hashtags': [], 'symbols': [], 'user_mentions': [{'screen_name': 'KathyLueders', 'name': 'Kathy Lueders', 'id': 1275082205233111040, 'id_str': '1275082205233111040', 'indices': [36, 49]}, {'screen_name': 'airandspace', 'name': 'National Air and Space Museum', 'id': 14848513, 'id_str': '14848513', 'indices': [60, 72]}], 'urls': [{'url': 'https://t.co/Zx7i4HAMyN', 'expanded_url': 'https://twitter.com/i/web/status/1437929417473511432', 'display_url': 'twitter.com/i/web/status/1…', 'indices': [117, 140]}]}, source='Twitter Media Studio', source_url='https://studio.twitter.com', in_reply_to_status_id=None, in_reply_to_status_id_str=None, in_reply_to_user_id=None, in_reply_to_user_id_str=None, in_reply_to_screen_name=None, geo=None, coordinates=None, place=None, contributors=None, is_quote_status=False, retweet_count=22, favorite_count=109, favorited=False, retweeted=False, possibly_sensitive=False, lang='en'), contributors_enabled=False, is_translator=False, is_translation_enabled=False, profile_background_color='000000', profile_background_image_url='http://abs.twimg.com/images/themes/theme1/bg.png', profile_background_image_url_https='https://abs.twimg.com/images/themes/theme1/bg.png', profile_background_tile=False, profile_image_url='http://pbs.twimg.com/profile_images/1321163587679784960/0ZxKlEKB_normal.jpg', profile_image_url_https='https://pbs.twimg.com/profile_images/1321163587679784960/0ZxKlEKB_normal.jpg', profile_banner_url='https://pbs.twimg.com/profile_banners/11348282/1631654628', profile_link_color='205BA7', profile_sidebar_border_color='000000', profile_sidebar_fill_color='F3F2F2', profile_text_color='000000', profile_use_background_image=True, has_extended_profile=True, default_profile=False, default_profile_image=False, following=False, follow_request_sent=None, notifications=None, translator_type='regular', withheld_in_countries=[])"
      ]
     },
     "metadata": {},
     "execution_count": 29
    }
   ],
   "metadata": {}
  },
  {
   "cell_type": "code",
   "execution_count": 30,
   "source": [
    "nasa.location"
   ],
   "outputs": [
    {
     "output_type": "execute_result",
     "data": {
      "text/plain": [
       "'Pale Blue Dot'"
      ]
     },
     "metadata": {},
     "execution_count": 30
    }
   ],
   "metadata": {}
  },
  {
   "cell_type": "code",
   "execution_count": 31,
   "source": [
    "nasa.created_at"
   ],
   "outputs": [
    {
     "output_type": "execute_result",
     "data": {
      "text/plain": [
       "datetime.datetime(2007, 12, 19, 20, 20, 32)"
      ]
     },
     "metadata": {},
     "execution_count": 31
    }
   ],
   "metadata": {}
  },
  {
   "cell_type": "code",
   "execution_count": 33,
   "source": [
    "nasa.description"
   ],
   "outputs": [
    {
     "output_type": "execute_result",
     "data": {
      "text/plain": [
       "\"There's space for everybody. ✨\""
      ]
     },
     "metadata": {},
     "execution_count": 33
    }
   ],
   "metadata": {}
  },
  {
   "cell_type": "code",
   "execution_count": 34,
   "source": [
    "jeff = twitter.get_user(\"jeffbezos\")"
   ],
   "outputs": [],
   "metadata": {}
  },
  {
   "cell_type": "code",
   "execution_count": 35,
   "source": [
    "jeff"
   ],
   "outputs": [
    {
     "output_type": "execute_result",
     "data": {
      "text/plain": [
       "User(_api=<tweepy.api.API object at 0x0000020C436553D0>, _json={'id': 15506669, 'id_str': '15506669', 'name': 'Jeff Bezos', 'screen_name': 'JeffBezos', 'location': '', 'profile_location': None, 'description': 'Amazon, Blue Origin, Washington Post', 'url': None, 'entities': {'description': {'urls': []}}, 'protected': False, 'followers_count': 2621882, 'friends_count': 1, 'listed_count': 8944, 'created_at': 'Sun Jul 20 22:38:36 +0000 2008', 'favourites_count': 1, 'utc_offset': None, 'time_zone': None, 'geo_enabled': False, 'verified': True, 'statuses_count': 241, 'lang': None, 'status': {'created_at': 'Fri Feb 28 17:17:58 +0000 2020', 'id': 1233441223232245760, 'id_str': '1233441223232245760', 'text': 'Discussing climate, sustainability, and preserving the natural world with President @EmmanuelMacron today in Paris.… https://t.co/ry52OGekMH', 'truncated': True, 'entities': {'hashtags': [], 'symbols': [], 'user_mentions': [{'screen_name': 'EmmanuelMacron', 'name': 'Emmanuel Macron', 'id': 1976143068, 'id_str': '1976143068', 'indices': [84, 99]}], 'urls': [{'url': 'https://t.co/ry52OGekMH', 'expanded_url': 'https://twitter.com/i/web/status/1233441223232245760', 'display_url': 'twitter.com/i/web/status/1…', 'indices': [117, 140]}]}, 'source': '<a href=\"http://twitter.com/download/iphone\" rel=\"nofollow\">Twitter for iPhone</a>', 'in_reply_to_status_id': None, 'in_reply_to_status_id_str': None, 'in_reply_to_user_id': None, 'in_reply_to_user_id_str': None, 'in_reply_to_screen_name': None, 'geo': None, 'coordinates': None, 'place': None, 'contributors': None, 'is_quote_status': False, 'retweet_count': 2649, 'favorite_count': 32204, 'favorited': False, 'retweeted': False, 'possibly_sensitive': False, 'lang': 'en'}, 'contributors_enabled': False, 'is_translator': False, 'is_translation_enabled': False, 'profile_background_color': 'C0DEED', 'profile_background_image_url': 'http://abs.twimg.com/images/themes/theme1/bg.png', 'profile_background_image_url_https': 'https://abs.twimg.com/images/themes/theme1/bg.png', 'profile_background_tile': False, 'profile_image_url': 'http://pbs.twimg.com/profile_images/669103856106668033/UF3cgUk4_normal.jpg', 'profile_image_url_https': 'https://pbs.twimg.com/profile_images/669103856106668033/UF3cgUk4_normal.jpg', 'profile_banner_url': 'https://pbs.twimg.com/profile_banners/15506669/1448361938', 'profile_link_color': '1DA1F2', 'profile_sidebar_border_color': 'C0DEED', 'profile_sidebar_fill_color': 'DDEEF6', 'profile_text_color': '333333', 'profile_use_background_image': True, 'has_extended_profile': False, 'default_profile': True, 'default_profile_image': False, 'following': None, 'follow_request_sent': None, 'notifications': None, 'translator_type': 'none', 'withheld_in_countries': []}, id=15506669, id_str='15506669', name='Jeff Bezos', screen_name='JeffBezos', location='', profile_location=None, description='Amazon, Blue Origin, Washington Post', url=None, entities={'description': {'urls': []}}, protected=False, followers_count=2621882, friends_count=1, listed_count=8944, created_at=datetime.datetime(2008, 7, 20, 22, 38, 36), favourites_count=1, utc_offset=None, time_zone=None, geo_enabled=False, verified=True, statuses_count=241, lang=None, status=Status(_api=<tweepy.api.API object at 0x0000020C436553D0>, _json={'created_at': 'Fri Feb 28 17:17:58 +0000 2020', 'id': 1233441223232245760, 'id_str': '1233441223232245760', 'text': 'Discussing climate, sustainability, and preserving the natural world with President @EmmanuelMacron today in Paris.… https://t.co/ry52OGekMH', 'truncated': True, 'entities': {'hashtags': [], 'symbols': [], 'user_mentions': [{'screen_name': 'EmmanuelMacron', 'name': 'Emmanuel Macron', 'id': 1976143068, 'id_str': '1976143068', 'indices': [84, 99]}], 'urls': [{'url': 'https://t.co/ry52OGekMH', 'expanded_url': 'https://twitter.com/i/web/status/1233441223232245760', 'display_url': 'twitter.com/i/web/status/1…', 'indices': [117, 140]}]}, 'source': '<a href=\"http://twitter.com/download/iphone\" rel=\"nofollow\">Twitter for iPhone</a>', 'in_reply_to_status_id': None, 'in_reply_to_status_id_str': None, 'in_reply_to_user_id': None, 'in_reply_to_user_id_str': None, 'in_reply_to_screen_name': None, 'geo': None, 'coordinates': None, 'place': None, 'contributors': None, 'is_quote_status': False, 'retweet_count': 2649, 'favorite_count': 32204, 'favorited': False, 'retweeted': False, 'possibly_sensitive': False, 'lang': 'en'}, created_at=datetime.datetime(2020, 2, 28, 17, 17, 58), id=1233441223232245760, id_str='1233441223232245760', text='Discussing climate, sustainability, and preserving the natural world with President @EmmanuelMacron today in Paris.… https://t.co/ry52OGekMH', truncated=True, entities={'hashtags': [], 'symbols': [], 'user_mentions': [{'screen_name': 'EmmanuelMacron', 'name': 'Emmanuel Macron', 'id': 1976143068, 'id_str': '1976143068', 'indices': [84, 99]}], 'urls': [{'url': 'https://t.co/ry52OGekMH', 'expanded_url': 'https://twitter.com/i/web/status/1233441223232245760', 'display_url': 'twitter.com/i/web/status/1…', 'indices': [117, 140]}]}, source='Twitter for iPhone', source_url='http://twitter.com/download/iphone', in_reply_to_status_id=None, in_reply_to_status_id_str=None, in_reply_to_user_id=None, in_reply_to_user_id_str=None, in_reply_to_screen_name=None, geo=None, coordinates=None, place=None, contributors=None, is_quote_status=False, retweet_count=2649, favorite_count=32204, favorited=False, retweeted=False, possibly_sensitive=False, lang='en'), contributors_enabled=False, is_translator=False, is_translation_enabled=False, profile_background_color='C0DEED', profile_background_image_url='http://abs.twimg.com/images/themes/theme1/bg.png', profile_background_image_url_https='https://abs.twimg.com/images/themes/theme1/bg.png', profile_background_tile=False, profile_image_url='http://pbs.twimg.com/profile_images/669103856106668033/UF3cgUk4_normal.jpg', profile_image_url_https='https://pbs.twimg.com/profile_images/669103856106668033/UF3cgUk4_normal.jpg', profile_banner_url='https://pbs.twimg.com/profile_banners/15506669/1448361938', profile_link_color='1DA1F2', profile_sidebar_border_color='C0DEED', profile_sidebar_fill_color='DDEEF6', profile_text_color='333333', profile_use_background_image=True, has_extended_profile=False, default_profile=True, default_profile_image=False, following=False, follow_request_sent=None, notifications=None, translator_type='none', withheld_in_countries=[])"
      ]
     },
     "metadata": {},
     "execution_count": 35
    }
   ],
   "metadata": {}
  },
  {
   "cell_type": "code",
   "execution_count": 36,
   "source": [
    "jeff.created_at"
   ],
   "outputs": [
    {
     "output_type": "execute_result",
     "data": {
      "text/plain": [
       "datetime.datetime(2008, 7, 20, 22, 38, 36)"
      ]
     },
     "metadata": {},
     "execution_count": 36
    }
   ],
   "metadata": {}
  },
  {
   "cell_type": "code",
   "execution_count": 38,
   "source": [
    "jeff.location"
   ],
   "outputs": [
    {
     "output_type": "execute_result",
     "data": {
      "text/plain": [
       "''"
      ]
     },
     "metadata": {},
     "execution_count": 38
    }
   ],
   "metadata": {}
  },
  {
   "cell_type": "code",
   "execution_count": 39,
   "source": [
    "jeff.description"
   ],
   "outputs": [
    {
     "output_type": "execute_result",
     "data": {
      "text/plain": [
       "'Amazon, Blue Origin, Washington Post'"
      ]
     },
     "metadata": {},
     "execution_count": 39
    }
   ],
   "metadata": {}
  },
  {
   "cell_type": "code",
   "execution_count": 40,
   "source": [
    "for friend in jeff.friends():\r\n",
    "   print(friend.screen_name)"
   ],
   "outputs": [
    {
     "output_type": "stream",
     "name": "stdout",
     "text": [
      "mackenziescott\n"
     ]
    }
   ],
   "metadata": {}
  },
  {
   "cell_type": "code",
   "execution_count": 42,
   "source": [
    "for friend in nasa.friends():\r\n",
    "   print(friend.screen_name)"
   ],
   "outputs": [
    {
     "output_type": "stream",
     "name": "stdout",
     "text": [
      "v_wyche\n",
      "NASA_Gateway\n",
      "Astro_Pam\n",
      "SenBillNelson\n",
      "Aki_Hoshide\n",
      "Thom_astro\n",
      "NASAArtemis\n",
      "dominickmatthew\n",
      "uaespaceagency\n",
      "Astro_Megan\n",
      "KathyLueders\n",
      "MarkKirasich\n",
      "Astro_SEAL\n",
      "NASARoman\n",
      "NASAPersevere\n",
      "DoNASAScience\n",
      "NASA_Marshall\n",
      "JonnyKimUSA\n",
      "AEM_mx\n",
      "isro\n"
     ]
    }
   ],
   "metadata": {}
  },
  {
   "cell_type": "code",
   "execution_count": 43,
   "source": [
    "jeff_tweets = jeff.timeline(count=200, exclude_replies=True, include_rts=False, tweet_mode=\"Extended\")"
   ],
   "outputs": [],
   "metadata": {}
  },
  {
   "cell_type": "code",
   "execution_count": 44,
   "source": [
    "jeff_tweets[0].text"
   ],
   "outputs": [
    {
     "output_type": "execute_result",
     "data": {
      "text/plain": [
       "'Discussing climate, sustainability, and preserving the natural world with President @EmmanuelMacron today in Paris.… https://t.co/ry52OGekMH'"
      ]
     },
     "metadata": {},
     "execution_count": 44
    }
   ],
   "metadata": {}
  },
  {
   "cell_type": "code",
   "execution_count": 46,
   "source": [
    "nasa_tweets = nasa.timeline(count=200, exclude_replies=True, include_rts=False, tweet_mode=\"Extended\")"
   ],
   "outputs": [],
   "metadata": {}
  },
  {
   "cell_type": "code",
   "execution_count": 47,
   "source": [
    "nasa_tweets[0].text"
   ],
   "outputs": [
    {
     "output_type": "execute_result",
     "data": {
      "text/plain": [
       "\"LIVE: Our head of human spaceflight @KathyLueders speaks at @AirAndSpace.\\n\\n🤩 Tune in for her insights on humanity's… https://t.co/Zx7i4HAMyN\""
      ]
     },
     "metadata": {},
     "execution_count": 47
    }
   ],
   "metadata": {}
  },
  {
   "cell_type": "code",
   "execution_count": 48,
   "source": [
    "president = twitter.get_user(\"joebiden\")"
   ],
   "outputs": [],
   "metadata": {}
  },
  {
   "cell_type": "code",
   "execution_count": 49,
   "source": [
    "president"
   ],
   "outputs": [
    {
     "output_type": "execute_result",
     "data": {
      "text/plain": [
       "User(_api=<tweepy.api.API object at 0x0000020C436553D0>, _json={'id': 939091, 'id_str': '939091', 'name': 'Joe Biden', 'screen_name': 'JoeBiden', 'location': 'Washington, DC', 'profile_location': None, 'description': 'Husband to @DrBiden, proud father and grandfather. Ready to build back better for all Americans. Official account is @POTUS.', 'url': 'https://t.co/UClrPuJpyZ', 'entities': {'url': {'urls': [{'url': 'https://t.co/UClrPuJpyZ', 'expanded_url': 'http://joebiden.com', 'display_url': 'joebiden.com', 'indices': [0, 23]}]}, 'description': {'urls': []}}, 'protected': False, 'followers_count': 31283880, 'friends_count': 47, 'listed_count': 37130, 'created_at': 'Sun Mar 11 17:51:24 +0000 2007', 'favourites_count': 20, 'utc_offset': None, 'time_zone': None, 'geo_enabled': False, 'verified': True, 'statuses_count': 7535, 'lang': None, 'status': {'created_at': 'Tue Sep 14 21:00:26 +0000 2021', 'id': 1437883965168312322, 'id_str': '1437883965168312322', 'text': 'California, the eyes of the nation are on you. Vote NO on the recall before polls close at 8pm to keep @GavinNewsom… https://t.co/OL8LakaKKy', 'truncated': True, 'entities': {'hashtags': [], 'symbols': [], 'user_mentions': [{'screen_name': 'GavinNewsom', 'name': 'Gavin Newsom', 'id': 11347122, 'id_str': '11347122', 'indices': [103, 115]}], 'urls': [{'url': 'https://t.co/OL8LakaKKy', 'expanded_url': 'https://twitter.com/i/web/status/1437883965168312322', 'display_url': 'twitter.com/i/web/status/1…', 'indices': [117, 140]}]}, 'source': '<a href=\"https://sproutsocial.com\" rel=\"nofollow\">Sprout Social</a>', 'in_reply_to_status_id': None, 'in_reply_to_status_id_str': None, 'in_reply_to_user_id': None, 'in_reply_to_user_id_str': None, 'in_reply_to_screen_name': None, 'geo': None, 'coordinates': None, 'place': None, 'contributors': None, 'is_quote_status': False, 'retweet_count': 1659, 'favorite_count': 7805, 'favorited': False, 'retweeted': False, 'possibly_sensitive': False, 'lang': 'en'}, 'contributors_enabled': False, 'is_translator': False, 'is_translation_enabled': False, 'profile_background_color': '565959', 'profile_background_image_url': 'http://abs.twimg.com/images/themes/theme1/bg.png', 'profile_background_image_url_https': 'https://abs.twimg.com/images/themes/theme1/bg.png', 'profile_background_tile': True, 'profile_image_url': 'http://pbs.twimg.com/profile_images/1308769664240160770/AfgzWVE7_normal.jpg', 'profile_image_url_https': 'https://pbs.twimg.com/profile_images/1308769664240160770/AfgzWVE7_normal.jpg', 'profile_banner_url': 'https://pbs.twimg.com/profile_banners/939091/1626295479', 'profile_link_color': '233F94', 'profile_sidebar_border_color': 'FFFFFF', 'profile_sidebar_fill_color': 'EBEBFF', 'profile_text_color': '323232', 'profile_use_background_image': True, 'has_extended_profile': False, 'default_profile': False, 'default_profile_image': False, 'following': None, 'follow_request_sent': None, 'notifications': None, 'translator_type': 'none', 'withheld_in_countries': []}, id=939091, id_str='939091', name='Joe Biden', screen_name='JoeBiden', location='Washington, DC', profile_location=None, description='Husband to @DrBiden, proud father and grandfather. Ready to build back better for all Americans. Official account is @POTUS.', url='https://t.co/UClrPuJpyZ', entities={'url': {'urls': [{'url': 'https://t.co/UClrPuJpyZ', 'expanded_url': 'http://joebiden.com', 'display_url': 'joebiden.com', 'indices': [0, 23]}]}, 'description': {'urls': []}}, protected=False, followers_count=31283880, friends_count=47, listed_count=37130, created_at=datetime.datetime(2007, 3, 11, 17, 51, 24), favourites_count=20, utc_offset=None, time_zone=None, geo_enabled=False, verified=True, statuses_count=7535, lang=None, status=Status(_api=<tweepy.api.API object at 0x0000020C436553D0>, _json={'created_at': 'Tue Sep 14 21:00:26 +0000 2021', 'id': 1437883965168312322, 'id_str': '1437883965168312322', 'text': 'California, the eyes of the nation are on you. Vote NO on the recall before polls close at 8pm to keep @GavinNewsom… https://t.co/OL8LakaKKy', 'truncated': True, 'entities': {'hashtags': [], 'symbols': [], 'user_mentions': [{'screen_name': 'GavinNewsom', 'name': 'Gavin Newsom', 'id': 11347122, 'id_str': '11347122', 'indices': [103, 115]}], 'urls': [{'url': 'https://t.co/OL8LakaKKy', 'expanded_url': 'https://twitter.com/i/web/status/1437883965168312322', 'display_url': 'twitter.com/i/web/status/1…', 'indices': [117, 140]}]}, 'source': '<a href=\"https://sproutsocial.com\" rel=\"nofollow\">Sprout Social</a>', 'in_reply_to_status_id': None, 'in_reply_to_status_id_str': None, 'in_reply_to_user_id': None, 'in_reply_to_user_id_str': None, 'in_reply_to_screen_name': None, 'geo': None, 'coordinates': None, 'place': None, 'contributors': None, 'is_quote_status': False, 'retweet_count': 1659, 'favorite_count': 7805, 'favorited': False, 'retweeted': False, 'possibly_sensitive': False, 'lang': 'en'}, created_at=datetime.datetime(2021, 9, 14, 21, 0, 26), id=1437883965168312322, id_str='1437883965168312322', text='California, the eyes of the nation are on you. Vote NO on the recall before polls close at 8pm to keep @GavinNewsom… https://t.co/OL8LakaKKy', truncated=True, entities={'hashtags': [], 'symbols': [], 'user_mentions': [{'screen_name': 'GavinNewsom', 'name': 'Gavin Newsom', 'id': 11347122, 'id_str': '11347122', 'indices': [103, 115]}], 'urls': [{'url': 'https://t.co/OL8LakaKKy', 'expanded_url': 'https://twitter.com/i/web/status/1437883965168312322', 'display_url': 'twitter.com/i/web/status/1…', 'indices': [117, 140]}]}, source='Sprout Social', source_url='https://sproutsocial.com', in_reply_to_status_id=None, in_reply_to_status_id_str=None, in_reply_to_user_id=None, in_reply_to_user_id_str=None, in_reply_to_screen_name=None, geo=None, coordinates=None, place=None, contributors=None, is_quote_status=False, retweet_count=1659, favorite_count=7805, favorited=False, retweeted=False, possibly_sensitive=False, lang='en'), contributors_enabled=False, is_translator=False, is_translation_enabled=False, profile_background_color='565959', profile_background_image_url='http://abs.twimg.com/images/themes/theme1/bg.png', profile_background_image_url_https='https://abs.twimg.com/images/themes/theme1/bg.png', profile_background_tile=True, profile_image_url='http://pbs.twimg.com/profile_images/1308769664240160770/AfgzWVE7_normal.jpg', profile_image_url_https='https://pbs.twimg.com/profile_images/1308769664240160770/AfgzWVE7_normal.jpg', profile_banner_url='https://pbs.twimg.com/profile_banners/939091/1626295479', profile_link_color='233F94', profile_sidebar_border_color='FFFFFF', profile_sidebar_fill_color='EBEBFF', profile_text_color='323232', profile_use_background_image=True, has_extended_profile=False, default_profile=False, default_profile_image=False, following=False, follow_request_sent=None, notifications=None, translator_type='none', withheld_in_countries=[])"
      ]
     },
     "metadata": {},
     "execution_count": 49
    }
   ],
   "metadata": {}
  },
  {
   "cell_type": "code",
   "execution_count": 50,
   "source": [
    "president.description"
   ],
   "outputs": [
    {
     "output_type": "execute_result",
     "data": {
      "text/plain": [
       "'Husband to @DrBiden, proud father and grandfather. Ready to build back better for all Americans. Official account is @POTUS.'"
      ]
     },
     "metadata": {},
     "execution_count": 50
    }
   ],
   "metadata": {}
  },
  {
   "cell_type": "code",
   "execution_count": 51,
   "source": [
    "president.location"
   ],
   "outputs": [
    {
     "output_type": "execute_result",
     "data": {
      "text/plain": [
       "'Washington, DC'"
      ]
     },
     "metadata": {},
     "execution_count": 51
    }
   ],
   "metadata": {}
  },
  {
   "cell_type": "code",
   "execution_count": 52,
   "source": [
    "for friend in president.friends():\r\n",
    "   print(friend.screen_name)"
   ],
   "outputs": [
    {
     "output_type": "stream",
     "name": "stdout",
     "text": [
      "chrissyteigen\n",
      "POTUS\n",
      "teachcardona\n",
      "AliMayorkas\n",
      "ABlinken\n",
      "SecYellen\n",
      "neeratanden\n",
      "XavierBecerra\n",
      "mlfudge\n",
      "DenisMcDonough\n",
      "PeteButtigieg\n",
      "DebHaalandNM\n",
      "JenGranholm\n",
      "Michael_S_Regan\n",
      "SecDef\n",
      "Mariska\n",
      "BidenInaugural\n",
      "WhiteHouse\n",
      "BlueAmerica22\n",
      "DouglasEmhoff\n"
     ]
    }
   ],
   "metadata": {}
  },
  {
   "cell_type": "code",
   "execution_count": 53,
   "source": [
    "president_tweets = president.timeline(count=200, exclude_replies=True, include_rts=False, tweet_mode=\"Extended\")"
   ],
   "outputs": [],
   "metadata": {}
  },
  {
   "cell_type": "code",
   "execution_count": 54,
   "source": [
    "president_tweets[0].text"
   ],
   "outputs": [
    {
     "output_type": "execute_result",
     "data": {
      "text/plain": [
       "'California, the eyes of the nation are on you. Vote NO on the recall before polls close at 8pm to keep @GavinNewsom… https://t.co/OL8LakaKKy'"
      ]
     },
     "metadata": {},
     "execution_count": 54
    }
   ],
   "metadata": {}
  },
  {
   "cell_type": "code",
   "execution_count": 55,
   "source": [
    "import spacy"
   ],
   "outputs": [],
   "metadata": {}
  },
  {
   "cell_type": "code",
   "execution_count": 56,
   "source": [
    "import en_core_web_sm"
   ],
   "outputs": [],
   "metadata": {}
  },
  {
   "cell_type": "code",
   "execution_count": 57,
   "source": [
    "en_core_web_sm"
   ],
   "outputs": [
    {
     "output_type": "execute_result",
     "data": {
      "text/plain": [
       "<module 'en_core_web_sm' from 'C:\\\\Users\\\\mark\\\\anaconda3\\\\lib\\\\site-packages\\\\en_core_web_sm\\\\__init__.py'>"
      ]
     },
     "metadata": {},
     "execution_count": 57
    }
   ],
   "metadata": {}
  },
  {
   "cell_type": "code",
   "execution_count": 58,
   "source": [
    "nlp_model = en_core_web_sm.load()"
   ],
   "outputs": [],
   "metadata": {}
  },
  {
   "cell_type": "code",
   "execution_count": 59,
   "source": [
    "nlp_model"
   ],
   "outputs": [
    {
     "output_type": "execute_result",
     "data": {
      "text/plain": [
       "<spacy.lang.en.English at 0x20c4487efd0>"
      ]
     },
     "metadata": {},
     "execution_count": 59
    }
   ],
   "metadata": {}
  },
  {
   "cell_type": "code",
   "execution_count": 60,
   "source": [
    "word2vec = nlp_model('Hello World!').vector"
   ],
   "outputs": [],
   "metadata": {}
  },
  {
   "cell_type": "code",
   "execution_count": 61,
   "source": [
    "word2vec"
   ],
   "outputs": [
    {
     "output_type": "execute_result",
     "data": {
      "text/plain": [
       "array([-0.19403982, -0.6806932 ,  0.12755357,  0.16818719, -0.58220464,\n",
       "       -0.55326384, -0.55738866, -0.3530551 , -0.43043342, -0.1207275 ,\n",
       "        0.589883  , -0.40636626, -0.39202037, -0.01008038, -0.14210391,\n",
       "       -0.3500007 ,  0.37498844, -0.30555838, -0.2368626 ,  0.0117068 ,\n",
       "        0.6864793 , -0.28574583, -0.2302254 ,  0.30475256, -0.03268542,\n",
       "        0.31870887, -0.35732505, -0.160322  ,  0.00860705,  0.18091631,\n",
       "        0.4605359 , -0.28120464,  0.07763744,  0.04139526, -0.1898591 ,\n",
       "        0.696984  , -0.35541043,  0.41908416,  0.8298108 ,  0.04201088,\n",
       "       -0.28440812, -0.62401694, -0.03010565,  1.517394  ,  0.39936686,\n",
       "       -0.5647843 ,  0.42537412, -0.38520047, -0.9059079 ,  0.13554065,\n",
       "       -0.08441737, -0.04836005,  0.02798845, -0.56354445, -0.44923663,\n",
       "       -0.25115564, -0.39758494,  1.2101781 , -0.630485  , -0.10333452,\n",
       "        0.7818753 ,  0.3808509 ,  0.41554096, -0.09615141, -0.16868784,\n",
       "        0.6736727 , -0.7118432 , -0.8646528 ,  0.4379952 ,  0.191559  ,\n",
       "        0.4062413 ,  0.6930051 ,  0.13046293, -0.7796037 ,  0.02731192,\n",
       "       -0.12603037,  0.5378039 , -0.6377934 , -0.11658012,  0.3226324 ,\n",
       "        0.8466452 , -0.21597242, -0.3975248 ,  0.24435405, -0.6081283 ,\n",
       "       -0.5371821 ,  0.21843767,  0.36260942,  0.6626292 , -0.17503488,\n",
       "        0.18044293,  0.33191597, -0.05210913,  0.03168521,  0.14011163,\n",
       "       -0.47390425], dtype=float32)"
      ]
     },
     "metadata": {},
     "execution_count": 61
    }
   ],
   "metadata": {}
  },
  {
   "cell_type": "code",
   "execution_count": 62,
   "source": [
    "word2vec_nasa_last_tweet = nlp_model(nasa_tweets[0].text).vector"
   ],
   "outputs": [],
   "metadata": {}
  },
  {
   "cell_type": "code",
   "execution_count": 63,
   "source": [
    "word2vec_nasa_last_tweet"
   ],
   "outputs": [
    {
     "output_type": "execute_result",
     "data": {
      "text/plain": [
       "array([ 3.33746225e-01,  1.55296028e-01, -9.90209654e-02,  4.33878936e-02,\n",
       "        4.38914113e-02, -2.27273509e-01,  1.32762445e-02, -1.54837549e-01,\n",
       "        8.34296569e-02, -9.83140841e-02,  3.55274290e-01,  1.05709486e-01,\n",
       "        9.35406387e-02, -7.15808794e-02,  7.01166019e-02, -2.58717462e-02,\n",
       "       -1.10203028e-02, -3.58127743e-01,  7.60852471e-02,  1.69506863e-01,\n",
       "       -2.33707771e-01, -8.03387240e-02, -1.56751752e-01, -1.62821393e-02,\n",
       "        9.22713950e-02, -1.93567082e-01,  7.64533654e-02, -6.15055859e-02,\n",
       "       -2.58375760e-02, -8.58401656e-02, -4.11290042e-02,  1.87978134e-01,\n",
       "       -2.91820139e-01,  6.25981838e-02,  4.49247658e-02,  1.11194618e-01,\n",
       "       -1.14536464e-01,  1.77527424e-02, -7.56663084e-02, -4.73012738e-02,\n",
       "       -4.01525237e-02,  3.81774567e-02, -2.17600420e-04,  4.44950573e-02,\n",
       "        1.28540948e-01, -3.47144045e-02,  1.65407673e-01, -2.03248367e-01,\n",
       "       -2.10275754e-01, -2.35161111e-02,  9.69607607e-02, -3.38509418e-02,\n",
       "        1.58638790e-01,  5.79025932e-02,  1.45790458e-01,  4.36469726e-02,\n",
       "       -3.63156199e-03,  9.72525850e-02, -1.30153701e-01, -1.43233808e-02,\n",
       "        2.13025764e-01, -1.00269169e-01,  3.69953781e-01, -2.01613173e-01,\n",
       "       -5.45920171e-02, -2.94480566e-02,  2.55795624e-02, -1.37698293e-01,\n",
       "        5.26189506e-02,  6.70508146e-02, -7.33462200e-02, -1.15820982e-01,\n",
       "        7.72974566e-02, -4.00789022e-01, -2.52600461e-01, -6.39802590e-02,\n",
       "       -3.45144831e-02,  4.98599820e-02, -6.78945109e-02,  2.69019697e-02,\n",
       "        7.36805797e-02, -5.06710820e-02,  1.34721860e-01,  3.70006084e-01,\n",
       "       -2.09983870e-01,  5.69136441e-02,  6.09119274e-02, -2.05787584e-01,\n",
       "        1.10645346e-01, -1.73777565e-01, -1.72757450e-02,  1.30232617e-01,\n",
       "        1.30407259e-01,  7.22247213e-02, -1.59784220e-02, -1.99415851e-02],\n",
       "      dtype=float32)"
      ]
     },
     "metadata": {},
     "execution_count": 63
    }
   ],
   "metadata": {}
  },
  {
   "cell_type": "code",
   "execution_count": 64,
   "source": [
    "nlp_model.to_disk('my_nlp_model')"
   ],
   "outputs": [],
   "metadata": {}
  },
  {
   "cell_type": "code",
   "execution_count": 65,
   "source": [
    "nlp_model2 = spacy.load('my_nlp_model')"
   ],
   "outputs": [],
   "metadata": {}
  },
  {
   "cell_type": "code",
   "execution_count": 66,
   "source": [
    "word2vec_2 = nlp_model2('Hello World!').vector"
   ],
   "outputs": [],
   "metadata": {}
  },
  {
   "cell_type": "code",
   "execution_count": 67,
   "source": [
    "word2vec_2"
   ],
   "outputs": [
    {
     "output_type": "execute_result",
     "data": {
      "text/plain": [
       "array([-0.19403982, -0.6806932 ,  0.12755357,  0.16818719, -0.58220464,\n",
       "       -0.55326384, -0.55738866, -0.3530551 , -0.43043342, -0.1207275 ,\n",
       "        0.589883  , -0.40636626, -0.39202037, -0.01008038, -0.14210391,\n",
       "       -0.3500007 ,  0.37498844, -0.30555838, -0.2368626 ,  0.0117068 ,\n",
       "        0.6864793 , -0.28574583, -0.2302254 ,  0.30475256, -0.03268542,\n",
       "        0.31870887, -0.35732505, -0.160322  ,  0.00860705,  0.18091631,\n",
       "        0.4605359 , -0.28120464,  0.07763744,  0.04139526, -0.1898591 ,\n",
       "        0.696984  , -0.35541043,  0.41908416,  0.8298108 ,  0.04201088,\n",
       "       -0.28440812, -0.62401694, -0.03010565,  1.517394  ,  0.39936686,\n",
       "       -0.5647843 ,  0.42537412, -0.38520047, -0.9059079 ,  0.13554065,\n",
       "       -0.08441737, -0.04836005,  0.02798845, -0.56354445, -0.44923663,\n",
       "       -0.25115564, -0.39758494,  1.2101781 , -0.630485  , -0.10333452,\n",
       "        0.7818753 ,  0.3808509 ,  0.41554096, -0.09615141, -0.16868784,\n",
       "        0.6736727 , -0.7118432 , -0.8646528 ,  0.4379952 ,  0.191559  ,\n",
       "        0.4062413 ,  0.6930051 ,  0.13046293, -0.7796037 ,  0.02731192,\n",
       "       -0.12603037,  0.5378039 , -0.6377934 , -0.11658012,  0.3226324 ,\n",
       "        0.8466452 , -0.21597242, -0.3975248 ,  0.24435405, -0.6081283 ,\n",
       "       -0.5371821 ,  0.21843767,  0.36260942,  0.6626292 , -0.17503488,\n",
       "        0.18044293,  0.33191597, -0.05210913,  0.03168521,  0.14011163,\n",
       "       -0.47390425], dtype=float32)"
      ]
     },
     "metadata": {},
     "execution_count": 67
    }
   ],
   "metadata": {}
  },
  {
   "cell_type": "code",
   "execution_count": 68,
   "source": [
    "word2vec_nasa_last_tweet_2 = nlp_model2(nasa_tweets[0].text).vector"
   ],
   "outputs": [],
   "metadata": {}
  },
  {
   "cell_type": "code",
   "execution_count": 69,
   "source": [
    "word2vec_nasa_last_tweet_2"
   ],
   "outputs": [
    {
     "output_type": "execute_result",
     "data": {
      "text/plain": [
       "array([ 3.33746225e-01,  1.55296028e-01, -9.90209654e-02,  4.33878936e-02,\n",
       "        4.38914113e-02, -2.27273509e-01,  1.32762445e-02, -1.54837549e-01,\n",
       "        8.34296569e-02, -9.83140841e-02,  3.55274290e-01,  1.05709486e-01,\n",
       "        9.35406387e-02, -7.15808794e-02,  7.01166019e-02, -2.58717462e-02,\n",
       "       -1.10203028e-02, -3.58127743e-01,  7.60852471e-02,  1.69506863e-01,\n",
       "       -2.33707771e-01, -8.03387240e-02, -1.56751752e-01, -1.62821393e-02,\n",
       "        9.22713950e-02, -1.93567082e-01,  7.64533654e-02, -6.15055859e-02,\n",
       "       -2.58375760e-02, -8.58401656e-02, -4.11290042e-02,  1.87978134e-01,\n",
       "       -2.91820139e-01,  6.25981838e-02,  4.49247658e-02,  1.11194618e-01,\n",
       "       -1.14536464e-01,  1.77527424e-02, -7.56663084e-02, -4.73012738e-02,\n",
       "       -4.01525237e-02,  3.81774567e-02, -2.17600420e-04,  4.44950573e-02,\n",
       "        1.28540948e-01, -3.47144045e-02,  1.65407673e-01, -2.03248367e-01,\n",
       "       -2.10275754e-01, -2.35161111e-02,  9.69607607e-02, -3.38509418e-02,\n",
       "        1.58638790e-01,  5.79025932e-02,  1.45790458e-01,  4.36469726e-02,\n",
       "       -3.63156199e-03,  9.72525850e-02, -1.30153701e-01, -1.43233808e-02,\n",
       "        2.13025764e-01, -1.00269169e-01,  3.69953781e-01, -2.01613173e-01,\n",
       "       -5.45920171e-02, -2.94480566e-02,  2.55795624e-02, -1.37698293e-01,\n",
       "        5.26189506e-02,  6.70508146e-02, -7.33462200e-02, -1.15820982e-01,\n",
       "        7.72974566e-02, -4.00789022e-01, -2.52600461e-01, -6.39802590e-02,\n",
       "       -3.45144831e-02,  4.98599820e-02, -6.78945109e-02,  2.69019697e-02,\n",
       "        7.36805797e-02, -5.06710820e-02,  1.34721860e-01,  3.70006084e-01,\n",
       "       -2.09983870e-01,  5.69136441e-02,  6.09119274e-02, -2.05787584e-01,\n",
       "        1.10645346e-01, -1.73777565e-01, -1.72757450e-02,  1.30232617e-01,\n",
       "        1.30407259e-01,  7.22247213e-02, -1.59784220e-02, -1.99415851e-02],\n",
       "      dtype=float32)"
      ]
     },
     "metadata": {},
     "execution_count": 69
    }
   ],
   "metadata": {}
  },
  {
   "cell_type": "code",
   "execution_count": 70,
   "source": [
    "word2vec_president_last_tweet = nlp_model2(president_tweets[0].text).vector"
   ],
   "outputs": [],
   "metadata": {}
  },
  {
   "cell_type": "code",
   "execution_count": 71,
   "source": [
    "word2vec_president_last_tweet"
   ],
   "outputs": [
    {
     "output_type": "execute_result",
     "data": {
      "text/plain": [
       "array([ 5.06983474e-02, -7.30289295e-02, -2.26695910e-02, -1.64247621e-02,\n",
       "        7.55738541e-02, -1.55247331e-01,  6.52194470e-02,  3.62570630e-03,\n",
       "        1.47505179e-01, -3.65383178e-02,  2.23437607e-01, -9.03550312e-02,\n",
       "       -1.51200980e-01,  1.22530192e-01,  9.63731334e-02, -8.56554359e-02,\n",
       "        1.29616529e-01, -4.53950524e-01,  1.69214495e-02,  2.00074062e-01,\n",
       "       -8.89489129e-02,  2.67854258e-02, -1.72697738e-01,  8.86804461e-02,\n",
       "        1.46979153e-01, -3.82820554e-02,  1.30145669e-01, -4.16368665e-03,\n",
       "       -7.08435625e-02, -4.69875783e-02,  2.37730742e-02,  1.00687452e-01,\n",
       "       -1.31364211e-01,  1.46928327e-02,  1.78040221e-01, -5.04556261e-02,\n",
       "       -8.62938389e-02, -7.16184154e-02, -1.37980655e-02,  2.24228650e-02,\n",
       "       -7.72051811e-02,  2.20988974e-01, -4.35292721e-04, -1.30694568e-01,\n",
       "       -1.46745071e-01, -8.14771280e-02,  1.14858516e-01, -1.39517233e-01,\n",
       "       -2.58450478e-01,  9.00250487e-03,  3.65131944e-01,  2.52181262e-01,\n",
       "        1.48548186e-01,  2.35715002e-01, -7.40092173e-02,  3.73593643e-02,\n",
       "       -1.06647365e-01,  5.33969738e-02, -1.69428512e-01,  3.59174088e-02,\n",
       "        1.13428272e-01, -1.09024726e-01,  8.53616744e-02, -1.99219495e-01,\n",
       "        3.36001627e-02, -2.82262191e-02, -1.61388487e-01, -2.23192275e-01,\n",
       "       -4.38704295e-03,  1.75660670e-01, -1.06472157e-01,  1.32536098e-01,\n",
       "       -7.09376410e-02, -1.47580206e-01, -2.20664889e-01, -1.69236884e-01,\n",
       "       -2.41576940e-01, -1.45551428e-01, -1.87292457e-01,  1.57783955e-01,\n",
       "        2.71576941e-01,  1.35927185e-01, -9.06741321e-02,  1.56463057e-01,\n",
       "       -2.53458858e-01, -8.46913159e-02,  2.22271994e-01, -3.60280573e-01,\n",
       "       -7.48862140e-03, -6.48441389e-02, -2.34958855e-03,  1.12650115e-02,\n",
       "        1.97183058e-01,  4.14459780e-02,  1.48366064e-01, -1.60229784e-02],\n",
       "      dtype=float32)"
      ]
     },
     "metadata": {},
     "execution_count": 71
    }
   ],
   "metadata": {}
  },
  {
   "cell_type": "code",
   "execution_count": null,
   "source": [],
   "outputs": [],
   "metadata": {}
  }
 ]
}